{
  "cells": [
    {
      "cell_type": "markdown",
      "metadata": {
        "id": "view-in-github",
        "colab_type": "text"
      },
      "source": [
        "<a href=\"https://colab.research.google.com/github/prizillafern/streamlit/blob/main/largest_number_.ipynb\" target=\"_parent\"><img src=\"https://colab.research.google.com/assets/colab-badge.svg\" alt=\"Open In Colab\"/></a>"
      ]
    },
    {
      "cell_type": "code",
      "execution_count": 19,
      "metadata": {
        "id": "T_VFbgHPiFJG"
      },
      "outputs": [],
      "source": [
        "!pip install -q streamlit\n",
        "import streamlit as st\n",
        "st.write(\"Largest of three numbers\")\n",
        "\n",
        "st.title(\"Find the largest number\")\n",
        "\n",
        "def app():\n",
        "    st.write(\"Enter three numbers and click the button to find the largest number.\")\n",
        "    \n",
        "    num1 = st.number_input(\"Enter the first number:\")\n",
        "    num2 = st.number_input(\"Enter the second number:\")\n",
        "    num3 = st.number_input(\"Enter the third number:\")\n",
        "    \n",
        "    if st.button(\"Find the largest number\"):\n",
        "        if num1 > num2 and num1 > num3:\n",
        "            largest_num = num1\n",
        "        elif num2 > num1 and num2 > num3:\n",
        "            largest_num = num2\n",
        "        else:\n",
        "            largest_num = num3\n",
        "        \n",
        "        st.write(\"The largest number is:\", largest_num)"
      ]
    },
    {
      "cell_type": "code",
      "source": [],
      "metadata": {
        "id": "qkcEJhtFo9Mg"
      },
      "execution_count": null,
      "outputs": []
    }
  ],
  "metadata": {
    "colab": {
      "provenance": [],
      "include_colab_link": true
    },
    "kernelspec": {
      "display_name": "Python 3",
      "name": "python3"
    },
    "language_info": {
      "name": "python"
    }
  },
  "nbformat": 4,
  "nbformat_minor": 0
}